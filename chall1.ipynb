{
 "cells": [
  {
   "cell_type": "markdown",
   "source": [
    "# How to use this notebook\n",
    "This notebook imports the `mnist_model.py` file, containing the specification of a simple deep network for recognizing hand-written digits.\n"
   ],
   "metadata": {
    "collapsed": false
   }
  },
  {
   "cell_type": "code",
   "execution_count": null,
   "metadata": {
    "collapsed": true,
    "pycharm": {
     "name": "#%%\n"
    }
   },
   "outputs": [],
   "source": [
    "!npx degit https://github.com/zangobot/adversarial_challenge --force\n",
    "!pip install requirements.txt"
   ]
  },
  {
   "cell_type": "code",
   "execution_count": null,
   "outputs": [],
   "source": [
    "import numpy as np\n",
    "import torch\n",
    "from torchvision import datasets\n",
    "\n",
    "from mnist_model import SimpleNet\n",
    "\n",
    "net = SimpleNet().load_pretrained_mnist('mnist_net.pth')\n",
    "mnist = datasets.MNIST(root='.', download=True, train=False, transform=net.get_transform())\n",
    "sample, label = mnist[350]\n",
    "sample = sample.view((1, *sample.shape))\n",
    "target_label = torch.LongTensor([2])\n",
    "\n",
    "print(f'Original label: {label}')\n",
    "iterations = 2000\n",
    "eps = 5\n",
    "loss = torch.nn.CrossEntropyLoss()\n",
    "step_size = 1\n",
    "\n",
    "x_adv = sample.clone()\n",
    "x_adv = x_adv.requires_grad_()\n",
    "cs = np.linspace(0, 1, 10)\n",
    "\n",
    "for i in range(iterations):\n",
    "\tscores = net(x_adv)\n",
    "\n",
    "\toutput = loss(scores, target_label)\n",
    "\n",
    "\toutput.backward()\n",
    "\tgradient = x_adv.grad\n",
    "\tgradient = gradient / torch.norm(gradient, p=2)\n",
    "\tx_adv.data = x_adv.data - step_size * gradient\n",
    "\tx_adv.data = torch.clamp(x_adv, 0, 1)\n",
    "\tif torch.norm(x_adv - sample, p=2) > eps:\n",
    "\t\tdelta = x_adv.data - sample.data\n",
    "\t\tdelta = delta / torch.norm(delta, p=2)\n",
    "\t\tx_adv.data = sample.data + delta.data\n",
    "\tx_adv.grad.data.zero_()\n",
    "\n",
    "print(f'Adv loss: {output}')\n",
    "print(f'Adv label: {scores.argmax(dim=-1)}')"
   ],
   "metadata": {
    "collapsed": false,
    "pycharm": {
     "name": "#%%\n"
    }
   }
  }
 ],
 "metadata": {
  "kernelspec": {
   "display_name": "Python 3 (ipykernel)",
   "language": "python",
   "name": "python3"
  },
  "language_info": {
   "codemirror_mode": {
    "name": "ipython",
    "version": 3
   },
   "file_extension": ".py",
   "mimetype": "text/x-python",
   "name": "python",
   "nbconvert_exporter": "python",
   "pygments_lexer": "ipython3",
   "version": "3.9.7"
  }
 },
 "nbformat": 4,
 "nbformat_minor": 1
}